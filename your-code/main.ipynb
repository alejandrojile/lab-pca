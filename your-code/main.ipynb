{
 "cells": [
  {
   "cell_type": "markdown",
   "metadata": {},
   "source": [
    "# Before your start:\n",
    "- Read the README.md file\n",
    "- Comment as much as you can and use the resources (README.md file)\n",
    "- Happy learning!"
   ]
  },
  {
   "cell_type": "code",
   "execution_count": 1,
   "metadata": {},
   "outputs": [],
   "source": [
    "%matplotlib inline\n",
    "\n",
    "import matplotlib.pyplot as plt"
   ]
  },
  {
   "cell_type": "code",
   "execution_count": 2,
   "metadata": {},
   "outputs": [],
   "source": [
    "import numpy as np\n",
    "import pandas as pd"
   ]
  },
  {
   "cell_type": "markdown",
   "metadata": {},
   "source": [
    "# Challenge 1 - Reading and Standardizing the Data\n",
    "\n",
    "In this challenge we will work with image data and reduce the dimensions of the data to create a 2 dimensional plot. While we have not worked much with image data before, it can be represented as a numpy array where each pixel is assigned a numeric value. In this lesson, we will look at a dataset of cats and a dataset of dogs and see whether reducing them to two dimensions allows us to see if the data is separable. We will start by loading and processing the data. Run the cell below to load the two csv files and convert them into numpy arrays."
   ]
  },
  {
   "cell_type": "code",
   "execution_count": 3,
   "metadata": {},
   "outputs": [],
   "source": [
    "cats = np.array(pd.read_csv(\"https://raw.githubusercontent.com/bioramble/pca/master/cat.csv\", header=None))\n",
    "dogs = np.array(pd.read_csv(\"https://raw.githubusercontent.com/bioramble/pca/master/dog.csv\", header=None))"
   ]
  },
  {
   "cell_type": "markdown",
   "metadata": {},
   "source": [
    "Next, we'll examine the shape of both the cats and the dogs arrays. Print out both shapes below."
   ]
  },
  {
   "cell_type": "code",
   "execution_count": 4,
   "metadata": {},
   "outputs": [
    {
     "name": "stdout",
     "output_type": "stream",
     "text": [
      "(4096, 80)\n",
      "(4096, 80)\n"
     ]
    }
   ],
   "source": [
    "print(cats.shape)\n",
    "print(dogs.shape)"
   ]
  },
  {
   "cell_type": "markdown",
   "metadata": {},
   "source": [
    "What this means is that both arrays contain 80 images each (the number of columns). Each image is comprised of 64x64 pixels (so a total of 4096 pixels per image). The images have been flattened such that all 4096 are in a single row.\n",
    "\n",
    "Print out column 0 of the cats array to see what the pixels values look like."
   ]
  },
  {
   "cell_type": "code",
   "execution_count": 5,
   "metadata": {},
   "outputs": [
    {
     "data": {
      "text/plain": [
       "array([[ 64,  23, 250, ...,  60, 223, 101],\n",
       "       [ 64,  23, 250, ...,  50, 224, 107],\n",
       "       [ 64,  20, 250, ...,  63, 225, 106],\n",
       "       ...,\n",
       "       [ 64,  31, 244, ..., 105, 180, 114],\n",
       "       [ 64,  23, 232, ..., 118, 182,  91],\n",
       "       [ 61,   9, 244, ..., 104, 177, 113]], dtype=int64)"
      ]
     },
     "execution_count": 5,
     "metadata": {},
     "output_type": "execute_result"
    }
   ],
   "source": [
    "cats"
   ]
  },
  {
   "cell_type": "code",
   "execution_count": 6,
   "metadata": {},
   "outputs": [
    {
     "data": {
      "text/plain": [
       "array([ 64,  23, 250, 137,  55, 173,  18, 134,  19,  47, 109, 164,  41,\n",
       "        78, 108, 108, 247, 105, 158,  54, 103,   4,  23, 102, 239,  72,\n",
       "        42,  21, 168, 109, 112, 177,  22, 233,  15, 236, 250, 137,  32,\n",
       "         5, 178, 109,  24, 107,  53, 241, 226, 143,   5, 136,  98, 100,\n",
       "        89,  66, 228,  92, 255,  88, 230,  56, 160,  69,   6,  24, 195,\n",
       "       183, 239,  35, 154, 154, 122,  18,  87, 106, 174,  69,  28,  60,\n",
       "       223, 101], dtype=int64)"
      ]
     },
     "execution_count": 6,
     "metadata": {},
     "output_type": "execute_result"
    }
   ],
   "source": [
    "cats[0]"
   ]
  },
  {
   "cell_type": "markdown",
   "metadata": {},
   "source": [
    "Using `matplotlib` we can plot a single cat or a single dog. We do this by reshaping the vector back to a 64x64 image and then using the `imshow` function.\n",
    "\n",
    "Run the code below to look at the first dog and the first cat."
   ]
  },
  {
   "cell_type": "code",
   "execution_count": 7,
   "metadata": {},
   "outputs": [
    {
     "data": {
      "image/png": "[encoded data removed]",
      "text/plain": [
       "<Figure size 432x288 with 1 Axes>"
      ]
     },
     "metadata": {
      "needs_background": "light"
     },
     "output_type": "display_data"
    }
   ],
   "source": [
    "fig, ax = plt.subplots()\n",
    "ax.imshow(cats[:,0].reshape(64, 64).T, cmap=plt.cm.bone, interpolation='nearest');"
   ]
  },
  {
   "cell_type": "code",
   "execution_count": 8,
   "metadata": {},
   "outputs": [
    {
     "data": {
      "image/png": "[encoded data removed]",
      "text/plain": [
       "<Figure size 432x288 with 1 Axes>"
      ]
     },
     "metadata": {
      "needs_background": "light"
     },
     "output_type": "display_data"
    }
   ],
   "source": [
    "fig, ax = plt.subplots()\n",
    "ax.imshow(dogs[:,0].reshape(64, 64).T, cmap=plt.cm.bone, interpolation='nearest');"
   ]
  },
  {
   "cell_type": "markdown",
   "metadata": {},
   "source": [
    "Next, we would like to create a standardization function. This function will find the mean and standard deviation of each image. We subtract the mean from each pixel and divide each pixel by the standard deviation. Write the function below.\n",
    "\n",
    "Hint: To find the mean and standard deviation of each image, use `numpy`'s version of mean and stadnard deviation and use `axis=0`."
   ]
  },
  {
   "cell_type": "code",
   "execution_count": 9,
   "metadata": {},
   "outputs": [],
   "source": [
    "def standardize(images):\n",
    "    #This function takes as input a numpy array and returns a stadardized numpy array of the same dimensions.\n",
    "    #Sample input: np.array([[1,2,3],[4,5,6]])\n",
    "    #Sample output: np.array([[-1,-1,-1],[1,1,1]])\n",
    "    \n",
    "    # Your code here:\n",
    "\n",
    "    return np.array([[(pix - np.mean(image, axis=0)) / np.std(image, axis=0) for pix in image] for image in images])    "
   ]
  },
  {
   "cell_type": "markdown",
   "metadata": {},
   "source": [
    "Now, use the `np.concatenate` function to combine the cats and dogs arrays. Use `axis=1` to combine the two correctly. Make sure to put dogs first."
   ]
  },
  {
   "cell_type": "code",
   "execution_count": 10,
   "metadata": {},
   "outputs": [],
   "source": [
    "dogs_cats = np.concatenate((dogs, cats), axis=1)"
   ]
  },
  {
   "cell_type": "markdown",
   "metadata": {},
   "source": [
    "Standardize the concatenated array below."
   ]
  },
  {
   "cell_type": "code",
   "execution_count": 11,
   "metadata": {},
   "outputs": [],
   "source": [
    "std_dogs_cats = standardize(dogs_cats)"
   ]
  },
  {
   "cell_type": "markdown",
   "metadata": {},
   "source": [
    "# Challenge 2 - Using PCA\n",
    "\n",
    "Now that we have created a standardized matrix of cats and dogs, we'll find the two most important components in the data.\n",
    "\n",
    "Load the `PCA` function from `statsmodels` (read about this function [here](https://www.statsmodels.org/dev/generated/statsmodels.multivariate.pca.PCA.html)) and apply the function to our standarized data. Create a PCA model with two components."
   ]
  },
  {
   "cell_type": "code",
   "execution_count": 12,
   "metadata": {},
   "outputs": [],
   "source": [
    "from statsmodels.multivariate.pca import PCA"
   ]
  },
  {
   "cell_type": "code",
   "execution_count": 13,
   "metadata": {},
   "outputs": [],
   "source": [
    "pc = PCA(std_dogs_cats, ncomp=2)"
   ]
  },
  {
   "cell_type": "markdown",
   "metadata": {},
   "source": [
    "Use `numpy` to find to transpose the standardized pet array. This will help us compute the projection."
   ]
  },
  {
   "cell_type": "code",
   "execution_count": 14,
   "metadata": {},
   "outputs": [
    {
     "data": {
      "text/plain": [
       "array([[ 1.62729443,  1.73140122,  1.72275667, ..., -0.13587854,\n",
       "        -0.12814121, -0.12602345],\n",
       "       [ 0.38158288,  0.33482835,  0.06509765, ..., -0.0777098 ,\n",
       "         0.22258027,  0.22212766],\n",
       "       [ 0.32800389,  0.50241709,  0.38281563, ...,  0.08225423,\n",
       "        -0.06968763, -0.06799826],\n",
       "       ...,\n",
       "       [-0.56944422, -0.69863558, -0.50126918, ..., -0.06316762,\n",
       "         0.1348999 , -0.06799826],\n",
       "       [ 1.61389968,  1.73140122,  1.73657049, ...,  1.02749626,\n",
       "         1.07015718,  0.99096135],\n",
       "       [-0.02025956,  0.09741096,  0.0927253 , ...,  0.06771205,\n",
       "        -0.25966176,  0.0625584 ]])"
      ]
     },
     "execution_count": 14,
     "metadata": {},
     "output_type": "execute_result"
    }
   ],
   "source": [
    "np.transpose(std_dogs_cats)"
   ]
  },
  {
   "cell_type": "markdown",
   "metadata": {},
   "source": [
    "Find the dot product of the transposed standardized pet matrix and the `factors` of the `PCA` model found above. This will be the projection onto 2 dimensions. This means that each cat and dog image will now only have two columns instead of 4096."
   ]
  },
  {
   "cell_type": "code",
   "execution_count": 15,
   "metadata": {},
   "outputs": [
    {
     "data": {
      "text/plain": [
       "array([[-37.70222718,  19.85692152],\n",
       "       [-34.08822224, -13.5470164 ],\n",
       "       [  5.92578302,  -2.61832521],\n",
       "       [ -2.19523955, -17.06099168],\n",
       "       [-23.61165121,   8.75161301],\n",
       "       [ 11.71683424, -41.52859765],\n",
       "       [-15.48572067,  -4.97694516],\n",
       "       [-12.9700157 , -31.89046325],\n",
       "       [ -9.21223046, -23.35422005],\n",
       "       [-36.67328008,   9.1981008 ],\n",
       "       [  0.71638045, -23.36182607],\n",
       "       [-11.2687926 ,  -3.08693928],\n",
       "       [ -3.81456116,  -3.7738522 ],\n",
       "       [ -1.24192024,  -2.34714905],\n",
       "       [-19.20824274, -23.08181337],\n",
       "       [-11.47310307, -14.52622652],\n",
       "       [-13.3823516 ,  -4.65157607],\n",
       "       [-32.54853639, -11.00104995],\n",
       "       [-11.79341191, -11.30093153],\n",
       "       [-15.03340091, -38.14181025],\n",
       "       [  3.50267527, -23.63868965],\n",
       "       [ -0.55677995, -36.31333504],\n",
       "       [ -9.07485426,  -6.3020001 ],\n",
       "       [-10.28148509, -38.23167712],\n",
       "       [-25.3855356 , -23.71377684],\n",
       "       [  3.41334451, -45.00187505],\n",
       "       [  0.82448063, -14.57103235],\n",
       "       [ -0.9464734 ,  -8.91821434],\n",
       "       [-15.19045359, -48.49155129],\n",
       "       [ -8.58194915, -13.42801902],\n",
       "       [ -4.39939805, -16.32911328],\n",
       "       [ -5.1611866 , -13.35251824],\n",
       "       [-27.79001966, -20.97938511],\n",
       "       [-11.22862401, -28.01246412],\n",
       "       [ 12.25257822, -45.5986654 ],\n",
       "       [-13.78810303,  -3.81807633],\n",
       "       [  8.65884609, -16.02234263],\n",
       "       [  0.2382261 , -21.28553003],\n",
       "       [  9.69162257, -36.05582405],\n",
       "       [-26.97416433, -12.77439174],\n",
       "       [-13.52572072, -28.49676155],\n",
       "       [ -5.48619297,  14.91864557],\n",
       "       [ 10.1524557 , -23.18843936],\n",
       "       [ -9.81941638, -19.4448992 ],\n",
       "       [  7.56155666,  -5.58697437],\n",
       "       [-20.03093477,  22.67536743],\n",
       "       [-31.70836737,  23.19659315],\n",
       "       [ -2.64592536,  -0.96226078],\n",
       "       [-15.05235881,  18.20893223],\n",
       "       [ 17.19697245, -31.5689077 ],\n",
       "       [-25.16463358,   7.63516442],\n",
       "       [-31.74988477,  26.12619684],\n",
       "       [ -6.52711968,  12.60054674],\n",
       "       [ 20.05719361, -27.97021515],\n",
       "       [ 14.22013646,   5.84859802],\n",
       "       [ 14.70149921,   9.74425647],\n",
       "       [-22.37743455,   9.47502955],\n",
       "       [-11.27749165,  12.97135966],\n",
       "       [ 15.22229157, -25.33857649],\n",
       "       [ -0.39046973, -17.49579412],\n",
       "       [ -4.52448664, -26.24328414],\n",
       "       [-21.0203749 ,  15.74326862],\n",
       "       [-28.86094245,  14.01807308],\n",
       "       [ 12.3632845 ,   8.71274758],\n",
       "       [ 12.58457432,   0.79510322],\n",
       "       [-23.37531376,   5.56352478],\n",
       "       [ -7.73046507,  22.64472756],\n",
       "       [ 36.41874776, -10.47732751],\n",
       "       [  4.43764282,   8.3912706 ],\n",
       "       [-20.14722915, -22.74387709],\n",
       "       [ 11.53170142,  -4.96129636],\n",
       "       [  3.6413918 , -22.74955077],\n",
       "       [-25.44503796, -23.73653762],\n",
       "       [ 16.23592298, -13.75712829],\n",
       "       [ -9.55245306,  27.28030394],\n",
       "       [-28.93350214,  10.30742794],\n",
       "       [-28.72872297,  -6.89289983],\n",
       "       [  9.37662953, -36.77130601],\n",
       "       [  4.71922402, -23.61551213],\n",
       "       [-39.65760652,   8.63797924],\n",
       "       [ 11.33707977,  26.91541687],\n",
       "       [ 38.67888175,   2.67758803],\n",
       "       [-67.76854757,  16.0039701 ],\n",
       "       [-28.26366169,   3.47118172],\n",
       "       [ 22.82795091,  25.41024024],\n",
       "       [ 19.84999516,  36.05008124],\n",
       "       [ 31.7243721 ,   2.99447706],\n",
       "       [  2.69046186,  16.89702317],\n",
       "       [ 41.14756632,  15.7389635 ],\n",
       "       [ 23.59826377,  27.33794086],\n",
       "       [  1.07593512,   7.38371886],\n",
       "       [ -3.92066399,  11.37200234],\n",
       "       [ 50.24490306,  16.01755798],\n",
       "       [ 22.97786866,  18.97184006],\n",
       "       [-23.80690831,  22.76447436],\n",
       "       [ 16.93990994,  13.8560017 ],\n",
       "       [-21.4329098 ,  12.83200238],\n",
       "       [ 24.57372527,  12.66622898],\n",
       "       [-32.97934988,   5.53133275],\n",
       "       [ 40.72240132,  11.21672548],\n",
       "       [-10.7252972 ,  20.3737134 ],\n",
       "       [ 39.43702455,   2.28199056],\n",
       "       [ 30.45281653,  -9.17596253],\n",
       "       [ 28.040604  , -20.84917137],\n",
       "       [-55.21138941,  13.11318957],\n",
       "       [  4.35265326, -15.74747341],\n",
       "       [ 22.99740013,  21.54153088],\n",
       "       [ 31.21473932, -11.01095791],\n",
       "       [-15.74674276,   9.11946449],\n",
       "       [ 13.36021903,  12.14665497],\n",
       "       [  0.33392271,  15.3594519 ],\n",
       "       [-15.2783047 ,  32.29190401],\n",
       "       [ 15.6177345 ,  32.92196465],\n",
       "       [-70.45784471,  21.62976625],\n",
       "       [ 34.16624798,   2.26886835],\n",
       "       [  6.4376767 ,  -2.91275193],\n",
       "       [-48.67478206,   6.00574779],\n",
       "       [ 34.77226492,  13.98666805],\n",
       "       [ 17.06967266, -13.95301179],\n",
       "       [  8.1596423 ,  14.61674018],\n",
       "       [  5.06159743,  20.86210019],\n",
       "       [ 29.81086462,  34.92573125],\n",
       "       [ 48.64321337,  -9.28561174],\n",
       "       [ 23.05911821,  -7.52844583],\n",
       "       [ 60.20241865, -17.46308195],\n",
       "       [-13.62491137,  12.42966249],\n",
       "       [-14.10082187,   4.59258087],\n",
       "       [-28.12695638,  15.44374064],\n",
       "       [ 50.3926829 ,   2.42485863],\n",
       "       [ -0.91130399,  12.84857575],\n",
       "       [ 21.21283778,  26.57542059],\n",
       "       [  8.68211905,  -3.28082214],\n",
       "       [ 36.74629263,  23.36603916],\n",
       "       [ 33.94060629,  25.63645591],\n",
       "       [-10.39077908,  23.28177208],\n",
       "       [ 24.57519805,  20.46069554],\n",
       "       [ 44.01549546,  42.60481543],\n",
       "       [ 13.35286725,  -1.41633269],\n",
       "       [-24.26831482,  25.94793218],\n",
       "       [ 16.75326012, -17.89292647],\n",
       "       [ -0.54611389,   4.23525146],\n",
       "       [ 10.69342021,  13.70788777],\n",
       "       [ 31.69814185,  13.44131404],\n",
       "       [ 34.76722863,  -2.59239474],\n",
       "       [-21.40911628,   6.53083014],\n",
       "       [  5.92939963,  18.2883859 ],\n",
       "       [-48.96792284,  11.27077878],\n",
       "       [  3.05192185,   9.35632238],\n",
       "       [-10.05740331,   9.3637602 ],\n",
       "       [-25.85465   ,   0.45467893],\n",
       "       [-10.18424404,   8.40249345],\n",
       "       [ 28.72966379,  -3.38349056],\n",
       "       [  5.15713743,  14.01989656],\n",
       "       [ -3.14918025,   3.37788288],\n",
       "       [-10.00951249,   6.66467748],\n",
       "       [ 16.6985455 ,  -6.51709735],\n",
       "       [ 26.37122648, -13.84468226],\n",
       "       [ 25.63688183,  -3.06154198],\n",
       "       [-11.48836317,   4.54718497],\n",
       "       [  4.80394673,  12.87562019]])"
      ]
     },
     "execution_count": 15,
     "metadata": {},
     "output_type": "execute_result"
    }
   ],
   "source": [
    "two_dim = np.dot(np.transpose(std_dogs_cats), pc.factors)\n",
    "two_dim"
   ]
  },
  {
   "cell_type": "markdown",
   "metadata": {},
   "source": [
    "# Challenge 3 - Plotting the Data\n",
    "\n",
    "Now that we have reduced our cats and dogs arrays, we can easily plot the data in a way that the human eye can understand. We can look at this plot to see whether there are differences between the cat and dog images. \n",
    "\n",
    "In the cell below, turn the two dimensional projection into a pandas dataframe and name the columns `pc1`, and `pc2` respectively."
   ]
  },
  {
   "cell_type": "code",
   "execution_count": 16,
   "metadata": {},
   "outputs": [
    {
     "data": {
      "text/html": [
       "<div>\n",
       "<style scoped>\n",
       "    .dataframe tbody tr th:only-of-type {\n",
       "        vertical-align: middle;\n",
       "    }\n",
       "\n",
       "    .dataframe tbody tr th {\n",
       "        vertical-align: top;\n",
       "    }\n",
       "\n",
       "    .dataframe thead th {\n",
       "        text-align: right;\n",
       "    }\n",
       "</style>\n",
       "<table border=\"1\" class=\"dataframe\">\n",
       "  <thead>\n",
       "    <tr style=\"text-align: right;\">\n",
       "      <th></th>\n",
       "      <th>pc1</th>\n",
       "      <th>pc2</th>\n",
       "    </tr>\n",
       "  </thead>\n",
       "  <tbody>\n",
       "    <tr>\n",
       "      <th>0</th>\n",
       "      <td>-37.702227</td>\n",
       "      <td>19.856922</td>\n",
       "    </tr>\n",
       "    <tr>\n",
       "      <th>1</th>\n",
       "      <td>-34.088222</td>\n",
       "      <td>-13.547016</td>\n",
       "    </tr>\n",
       "    <tr>\n",
       "      <th>2</th>\n",
       "      <td>5.925783</td>\n",
       "      <td>-2.618325</td>\n",
       "    </tr>\n",
       "    <tr>\n",
       "      <th>3</th>\n",
       "      <td>-2.195240</td>\n",
       "      <td>-17.060992</td>\n",
       "    </tr>\n",
       "    <tr>\n",
       "      <th>4</th>\n",
       "      <td>-23.611651</td>\n",
       "      <td>8.751613</td>\n",
       "    </tr>\n",
       "    <tr>\n",
       "      <th>...</th>\n",
       "      <td>...</td>\n",
       "      <td>...</td>\n",
       "    </tr>\n",
       "    <tr>\n",
       "      <th>155</th>\n",
       "      <td>16.698545</td>\n",
       "      <td>-6.517097</td>\n",
       "    </tr>\n",
       "    <tr>\n",
       "      <th>156</th>\n",
       "      <td>26.371226</td>\n",
       "      <td>-13.844682</td>\n",
       "    </tr>\n",
       "    <tr>\n",
       "      <th>157</th>\n",
       "      <td>25.636882</td>\n",
       "      <td>-3.061542</td>\n",
       "    </tr>\n",
       "    <tr>\n",
       "      <th>158</th>\n",
       "      <td>-11.488363</td>\n",
       "      <td>4.547185</td>\n",
       "    </tr>\n",
       "    <tr>\n",
       "      <th>159</th>\n",
       "      <td>4.803947</td>\n",
       "      <td>12.875620</td>\n",
       "    </tr>\n",
       "  </tbody>\n",
       "</table>\n",
       "<p>160 rows × 2 columns</p>\n",
       "</div>"
      ],
      "text/plain": [
       "           pc1        pc2\n",
       "0   -37.702227  19.856922\n",
       "1   -34.088222 -13.547016\n",
       "2     5.925783  -2.618325\n",
       "3    -2.195240 -17.060992\n",
       "4   -23.611651   8.751613\n",
       "..         ...        ...\n",
       "155  16.698545  -6.517097\n",
       "156  26.371226 -13.844682\n",
       "157  25.636882  -3.061542\n",
       "158 -11.488363   4.547185\n",
       "159   4.803947  12.875620\n",
       "\n",
       "[160 rows x 2 columns]"
      ]
     },
     "execution_count": 16,
     "metadata": {},
     "output_type": "execute_result"
    }
   ],
   "source": [
    "data = pd.DataFrame(data=two_dim, columns=['pc1', 'pc2'])\n",
    "data"
   ]
  },
  {
   "cell_type": "markdown",
   "metadata": {},
   "source": [
    "Create a labels list. This list will be of size 160. The first 80 elements in the list will be the word `blue`, and the last 80 elements will be `red`. This will ensure that all dog observations will be colored in blue and all cats will be colored in red. Name this list `colors`."
   ]
  },
  {
   "cell_type": "code",
   "execution_count": 17,
   "metadata": {},
   "outputs": [],
   "source": [
    "def color_list(length, color):\n",
    "    list = [color] * length\n",
    "    return list"
   ]
  },
  {
   "cell_type": "code",
   "execution_count": 18,
   "metadata": {},
   "outputs": [
    {
     "data": {
      "text/plain": [
       "['blue',\n",
       " 'blue',\n",
       " 'blue',\n",
       " 'blue',\n",
       " 'blue',\n",
       " 'blue',\n",
       " 'blue',\n",
       " 'blue',\n",
       " 'blue',\n",
       " 'blue',\n",
       " 'blue',\n",
       " 'blue',\n",
       " 'blue',\n",
       " 'blue',\n",
       " 'blue',\n",
       " 'blue',\n",
       " 'blue',\n",
       " 'blue',\n",
       " 'blue',\n",
       " 'blue',\n",
       " 'blue',\n",
       " 'blue',\n",
       " 'blue',\n",
       " 'blue',\n",
       " 'blue',\n",
       " 'blue',\n",
       " 'blue',\n",
       " 'blue',\n",
       " 'blue',\n",
       " 'blue',\n",
       " 'blue',\n",
       " 'blue',\n",
       " 'blue',\n",
       " 'blue',\n",
       " 'blue',\n",
       " 'blue',\n",
       " 'blue',\n",
       " 'blue',\n",
       " 'blue',\n",
       " 'blue',\n",
       " 'blue',\n",
       " 'blue',\n",
       " 'blue',\n",
       " 'blue',\n",
       " 'blue',\n",
       " 'blue',\n",
       " 'blue',\n",
       " 'blue',\n",
       " 'blue',\n",
       " 'blue',\n",
       " 'blue',\n",
       " 'blue',\n",
       " 'blue',\n",
       " 'blue',\n",
       " 'blue',\n",
       " 'blue',\n",
       " 'blue',\n",
       " 'blue',\n",
       " 'blue',\n",
       " 'blue',\n",
       " 'blue',\n",
       " 'blue',\n",
       " 'blue',\n",
       " 'blue',\n",
       " 'blue',\n",
       " 'blue',\n",
       " 'blue',\n",
       " 'blue',\n",
       " 'blue',\n",
       " 'blue',\n",
       " 'blue',\n",
       " 'blue',\n",
       " 'blue',\n",
       " 'blue',\n",
       " 'blue',\n",
       " 'blue',\n",
       " 'blue',\n",
       " 'blue',\n",
       " 'blue',\n",
       " 'blue',\n",
       " 'red',\n",
       " 'red',\n",
       " 'red',\n",
       " 'red',\n",
       " 'red',\n",
       " 'red',\n",
       " 'red',\n",
       " 'red',\n",
       " 'red',\n",
       " 'red',\n",
       " 'red',\n",
       " 'red',\n",
       " 'red',\n",
       " 'red',\n",
       " 'red',\n",
       " 'red',\n",
       " 'red',\n",
       " 'red',\n",
       " 'red',\n",
       " 'red',\n",
       " 'red',\n",
       " 'red',\n",
       " 'red',\n",
       " 'red',\n",
       " 'red',\n",
       " 'red',\n",
       " 'red',\n",
       " 'red',\n",
       " 'red',\n",
       " 'red',\n",
       " 'red',\n",
       " 'red',\n",
       " 'red',\n",
       " 'red',\n",
       " 'red',\n",
       " 'red',\n",
       " 'red',\n",
       " 'red',\n",
       " 'red',\n",
       " 'red',\n",
       " 'red',\n",
       " 'red',\n",
       " 'red',\n",
       " 'red',\n",
       " 'red',\n",
       " 'red',\n",
       " 'red',\n",
       " 'red',\n",
       " 'red',\n",
       " 'red',\n",
       " 'red',\n",
       " 'red',\n",
       " 'red',\n",
       " 'red',\n",
       " 'red',\n",
       " 'red',\n",
       " 'red',\n",
       " 'red',\n",
       " 'red',\n",
       " 'red',\n",
       " 'red',\n",
       " 'red',\n",
       " 'red',\n",
       " 'red',\n",
       " 'red',\n",
       " 'red',\n",
       " 'red',\n",
       " 'red',\n",
       " 'red',\n",
       " 'red',\n",
       " 'red',\n",
       " 'red',\n",
       " 'red',\n",
       " 'red',\n",
       " 'red',\n",
       " 'red',\n",
       " 'red',\n",
       " 'red',\n",
       " 'red',\n",
       " 'red']"
      ]
     },
     "execution_count": 18,
     "metadata": {},
     "output_type": "execute_result"
    }
   ],
   "source": [
    "colors = []\n",
    "colors.append(color_list(80, 'blue'))\n",
    "colors.append(color_list(80, 'red'))\n",
    "colors = list(np.reshape(colors, newshape=160))\n",
    "colors"
   ]
  },
  {
   "cell_type": "markdown",
   "metadata": {},
   "source": [
    "Create a scatter plot of `pc1` and `pc2` below. Use the `colors` list above to color the observations by setting `c=colors`."
   ]
  },
  {
   "cell_type": "code",
   "execution_count": 19,
   "metadata": {},
   "outputs": [
    {
     "data": {
      "image/png": "[encoded data removed]",
      "text/plain": [
       "<Figure size 432x288 with 1 Axes>"
      ]
     },
     "metadata": {
      "needs_background": "light"
     },
     "output_type": "display_data"
    }
   ],
   "source": [
    "data.plot('pc1', 'pc2', kind='scatter', c=colors);"
   ]
  },
  {
   "cell_type": "markdown",
   "metadata": {},
   "source": [
    "Do you see a clear separation between cats and dogs? Write your answer below."
   ]
  },
  {
   "cell_type": "code",
   "execution_count": null,
   "metadata": {},
   "outputs": [],
   "source": []
  }
 ],
 "metadata": {
  "interpreter": {
   "hash": "7579aee364a2e290dfc6a620616239004625e0c1356cc42c7bb47894a11803af"
  },
  "kernelspec": {
   "display_name": "Python 3.10.3 64-bit",
   "language": "python",
   "name": "python3"
  },
  "language_info": {
   "codemirror_mode": {
    "name": "ipython",
    "version": 3
   },
   "file_extension": ".py",
   "mimetype": "text/x-python",
   "name": "python",
   "nbconvert_exporter": "python",
   "pygments_lexer": "ipython3",
   "version": "3.10.3"
  }
 },
 "nbformat": 4,
 "nbformat_minor": 2
}
